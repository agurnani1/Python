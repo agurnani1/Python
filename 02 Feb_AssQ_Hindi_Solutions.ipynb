{
 "cells": [
  {
   "cell_type": "code",
   "execution_count": 1,
   "id": "e55e1fcb",
   "metadata": {},
   "outputs": [
    {
     "data": {
      "text/plain": [
       "'Q2. Write a python program to print the sum and product of the first 10 natural numbers using for\\nand while loop.'"
      ]
     },
     "execution_count": 1,
     "metadata": {},
     "output_type": "execute_result"
    }
   ],
   "source": [
    "'''Q1. Explain with an example each when to use a for loop and a while loop.\n",
    "SOLUTION\n",
    "We use a for loop when we know the number of iterations or when iterating over a sequence, and \n",
    "use a while loop when we need to repeat a block of code until a specific condition is met.\n",
    "Example1\n",
    "count = 0\n",
    "while count < 5:\n",
    "    print(\"Count:\", count)\n",
    "    count += 1\n",
    "    \n",
    "In this example, the while loop continues until the count variable reaches a value of 5. \n",
    "It prints the current count and increments the count by 1 in each iteration. \n",
    "The loop will repeat as long as the condition count < 5 is true.\n",
    "\n",
    "Example2:\n",
    "fruits = [\"apple\", \"banana\", \"cherry\", \"date\"]\n",
    "\n",
    "for fruit in fruits:\n",
    "    print(fruit)\n",
    "In this example, the for loop iterates over the fruits list and prints each item. \n",
    "Since we know the length of the list, we can use a for loop to iterate through each \n",
    "element without explicitly tracking the index or controlling the loop termination.\n",
    "'''"
   ]
  },
  {
   "cell_type": "code",
   "execution_count": 16,
   "id": "d906d229",
   "metadata": {},
   "outputs": [
    {
     "name": "stdout",
     "output_type": "stream",
     "text": [
      "Using For Loop: Sum and product of first 10 natural numbers=55 and 3628800\n",
      "Using WHILE Loop: Product of first 10 natural numbers=3628800\n",
      "Using WHILE Loop: SUM of first 10 natural numbers=55\n"
     ]
    }
   ],
   "source": [
    "'''Q2. Write a python program to print the sum and product \n",
    "of the first 10 natural numbers using for and while loop.'''\n",
    "#for loop\n",
    "\n",
    "product=1\n",
    "sum=0\n",
    "for i in range(1,11):\n",
    "    product = product*i\n",
    "    sum=sum+i\n",
    "    i+=1\n",
    "print(\"Using For Loop: Sum and product of first 10 natural numbers={} and {}\".format(sum,product))\n",
    "i=10\n",
    "product=1\n",
    "sum=0\n",
    "while (i>0):\n",
    "    product=product*i\n",
    "    sum=sum+i\n",
    "    i-=1\n",
    "print(f\"Using WHILE Loop: PRODUCT of first 10 natural numbers={product}\")\n",
    "print(f\"Using WHILE Loop: SUM of first 10 natural numbers={sum}\")"
   ]
  },
  {
   "cell_type": "code",
   "execution_count": null,
   "id": "a93a6e71",
   "metadata": {},
   "outputs": [],
   "source": [
    "\"\"\"Q3. Create a python program to compute the electricity bill for a household.The per-unit charges in rupees are as\n",
    "follows: For the first 100 units, the user will be charged Rs. 4.5 per\n",
    "unit, for the next 100 units, the user will be charged Rs. 6 per unit, and for the next 100 units, the user will\n",
    "be charged Rs. 10 per unit, After 300 units and above the user will be charged Rs. 20 per unit.\n",
    "You are required to take the units of electricity consumed in a month from the user as input.\n",
    "Your program must pass this test case: when the unit of electricity consumed by the user in a month is\n",
    "310, the total electricity bill should be 2250.\"\"\"\n",
    "\n",
    "\n",
    "\n",
    "def total_dues(units_consumed_per_month):\n",
    "    total_due=0\n",
    "    if units_consumed_per_month>100:\n",
    "        total_due+=100*4.5\n",
    "        units_consumed_per_month-=100\n",
    "        if units_consumed_per_month>100:\n",
    "            total_due+=(100*6)\n",
    "            units_consumed_per_month-=100\n",
    "            if units_consumed_per_month>100:\n",
    "                total_due +=100*10\n",
    "                units_consumed_per_month-=100\n",
    "                if units_consumed_per_month>0:\n",
    "                    total_due += units_consumed_per_month*20\n",
    "            else:\n",
    "                total_due +=units_consumed_per_month*10\n",
    "        else:\n",
    "            total_due+=(units_consumed_per_month*6)\n",
    "    else:\n",
    "        total_due+=units_consumed_per_month*4.5\n",
    "        \n",
    "    return total_due\n",
    "\n",
    "units_consumed_per_month= float(input(\"Enter the units of electricity consumed in a month: \"))\n",
    "\n",
    "total_dues=total_dues(units_consumed_per_month)\n",
    "print(\"Total electricity bill:: $\", total_dues)"
   ]
  },
  {
   "cell_type": "code",
   "execution_count": 50,
   "id": "9d8ff927",
   "metadata": {},
   "outputs": [
    {
     "name": "stdout",
     "output_type": "stream",
     "text": [
      "[2, 4, 5, 6, 8, 10, 12, 14, 15, 16, 18, 20, 22, 24, 25, 26, 28, 30, 32, 34, 35, 36, 38, 40, 42, 44, 45, 46, 48, 50, 52, 54, 55, 56, 58, 60, 62, 64, 65, 66, 68, 70, 72, 74, 75, 76, 78, 80, 82, 84, 85, 86, 88, 90, 92, 94, 95, 96, 98, 100]\n"
     ]
    }
   ],
   "source": [
    "\"\"\"Q4. Create a list of numbers from 1 to 100. Use for loop and while loop to calculate the cube of each\n",
    "number and if the cube of that number is divisible by 4 or 5 then append that number in a list and print\n",
    "that list.\"\"\"\n",
    "\n",
    "list1=[]\n",
    "i=1\n",
    "for i in range(1,101):\n",
    "    cube=i**3\n",
    "    if (cube %4==0 or cube%5==0):\n",
    "        list1.append(i)\n",
    "\n",
    "print(list1)"
   ]
  },
  {
   "cell_type": "code",
   "execution_count": 25,
   "id": "b7427a0c",
   "metadata": {},
   "outputs": [
    {
     "name": "stdout",
     "output_type": "stream",
     "text": [
      "In string =[ I want to become a data scientist ] Vowel Count is: 12\n"
     ]
    }
   ],
   "source": [
    "'''Q5. Write a program to filter count vowels in the below-given string.\n",
    "string = \"I want to become a data scientist\"'''\n",
    "st1 = \"I want to become a data scientist\"\n",
    "letters=st1.split()\n",
    "count=1\n",
    "\n",
    "for i in st1:\n",
    "    if i in [\"a\",\"e\",\"i\",\"o\",\"u\"]:\n",
    "        count+=1\n",
    "print(\"In string =[\", st1, \"] Vowel Count is:\",count)\n",
    "        \n",
    "        \n"
   ]
  }
 ],
 "metadata": {
  "kernelspec": {
   "display_name": "Python 3 (ipykernel)",
   "language": "python",
   "name": "python3"
  },
  "language_info": {
   "codemirror_mode": {
    "name": "ipython",
    "version": 3
   },
   "file_extension": ".py",
   "mimetype": "text/x-python",
   "name": "python",
   "nbconvert_exporter": "python",
   "pygments_lexer": "ipython3",
   "version": "3.10.11"
  }
 },
 "nbformat": 4,
 "nbformat_minor": 5
}
