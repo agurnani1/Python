{
 "cells": [
  {
   "cell_type": "code",
   "execution_count": 6,
   "id": "c2d397aa",
   "metadata": {},
   "outputs": [
    {
     "data": {
      "text/plain": [
       "\"Q1. Which keyword is used to create a function? Create a function to return a list of odd numbers in the\\nrange of 1 to 25.\\nQ2. Why *args and **kwargs is used in some functions? Create a function each for *args and **kwargs\\nto demonstrate their use.\\nQ3. What is an iterator in python? Name the method used to initialise the iterator object and the method\\nused for iteration. Use these methods to print the first five elements of the given list [2, 4, 6, 8, 10, 12, 14,\\n16, 18, 20].\\nQ4. What is a generator function in python? Why yield keyword is used? Give an example of a generator\\nfunction.\\nQ5. Create a generator function for prime numbers less than 1000. Use the next() method to print the\\nfirst 20 prime numbers.\\nQ6. Write a python program to print the first 10 Fibonacci numbers using a while loop.\\nQ7. Write a List Comprehension to iterate through the given string: ‘pwskills’.\\nExpected output: ['p', 'w', 's', 'k', 'i', 'l', 'l', 's']\\nQ8. Write a python program to check whether a given number is Palindrome or not using a while loop.\\nQ9. Write a code to print odd numbers from 1 to 100 using list comprehension.\\nNote: Use a list comprehension to create a list from 1 to 100 and use another List comprehension to filter\\nout odd numbers.\\n\\nNote: Create your assignment in Jupyter notebook and upload it to GitHub & share that GitHub repository\\nlink through your dashboard.\""
      ]
     },
     "execution_count": 6,
     "metadata": {},
     "output_type": "execute_result"
    }
   ],
   "source": [
    "# Solutions_for_03 Feb_AssQ_Hindi\n",
    "\"\"\"Q1. Which keyword is used to create a function? Create a function to return a list of odd numbers in the\n",
    "range of 1 to 25.\n",
    "Q2. Why *args and **kwargs is used in some functions? Create a function each for *args and **kwargs\n",
    "to demonstrate their use.\n",
    "Q3. What is an iterator in python? Name the method used to initialise the iterator object and the method\n",
    "used for iteration. Use these methods to print the first five elements of the given list [2, 4, 6, 8, 10, 12, 14,\n",
    "16, 18, 20].\n",
    "Q4. What is a generator function in python? Why yield keyword is used? Give an example of a generator\n",
    "function.\n",
    "Q5. Create a generator function for prime numbers less than 1000. Use the next() method to print the\n",
    "first 20 prime numbers.\n",
    "Q6. Write a python program to print the first 10 Fibonacci numbers using a while loop.\n",
    "Q7. Write a List Comprehension to iterate through the given string: ‘pwskills’.\n",
    "Expected output: ['p', 'w', 's', 'k', 'i', 'l', 'l', 's']\n",
    "Q8. Write a python program to check whether a given number is Palindrome or not using a while loop.\n",
    "Q9. Write a code to print odd numbers from 1 to 100 using list comprehension.\n",
    "Note: Use a list comprehension to create a list from 1 to 100 and use another List comprehension to filter\n",
    "out odd numbers.\n",
    "\n",
    "Note: Create your assignment in Jupyter notebook and upload it to GitHub & share that GitHub repository\n",
    "link through your dashboard.\"\"\"\n"
   ]
  },
  {
   "cell_type": "code",
   "execution_count": 7,
   "id": "02057b25",
   "metadata": {},
   "outputs": [
    {
     "name": "stdout",
     "output_type": "stream",
     "text": [
      "[True, False, True, False, True, False, True, False, True, False, True, False, True, False, True, False, True, False, True, False, True, False, True, False, True]\n"
     ]
    }
   ],
   "source": [
    "\"\"\"Q1. Which keyword is used to create a function? Create a function to return a list of odd numbers in the\n",
    "range of 1 to 25.\"\"\"\n",
    "#Solution: Keyword is def\n",
    "def odd_nums():\n",
    "    list1=[i%2!=0 for i in range(1,26)]\n",
    "    return list1\n",
    "print(odd_nums())"
   ]
  },
  {
   "cell_type": "code",
   "execution_count": 20,
   "id": "9ee55879",
   "metadata": {},
   "outputs": [
    {
     "name": "stdout",
     "output_type": "stream",
     "text": [
      "45\n",
      "1\n",
      "[2, 3, 4, 5]\n",
      "6\n",
      "abcde\n",
      "RealPythonIsGreat!\n"
     ]
    }
   ],
   "source": [
    "'''Q2. Why *args and **kwargs is used in some functions? Create a function each for *args and **kwargs\n",
    "to demonstrate their use.'''\n",
    "\n",
    "# Arbitrary/Positional Arguments, *args\n",
    "# If user does not know how many arguments that will be passed into their function, \n",
    "# they add a \"unpacking operator\" (* ) before the parameter name in the function definition.\n",
    "\n",
    "# Note:\n",
    "# The iterable object you’ll get using the unpacking operator * is not a list but a tuple. \n",
    "# A tuple is similar to a list in that they both support slicing and iteration. \n",
    "# However, tuples are very different in at least one aspect: lists are mutable, while tuples are not.\n",
    "# For example\n",
    "\n",
    "# sum_integers_args_3.py\n",
    "def my_sum(*integers):\n",
    "    result = 0\n",
    "    for x in integers:\n",
    "        result += x\n",
    "    return result\n",
    "\n",
    "list1 = [1, 2, 3]\n",
    "list2 = [4, 5]\n",
    "list3 = [6, 7, 8, 9]\n",
    "\n",
    "print(my_sum(*list1, *list2, *list3))\n",
    "# extract_list_body.py\n",
    "my_list = [1, 2, 3, 4, 5, 6]\n",
    "\n",
    "a, *b, c = my_list\n",
    "\n",
    "print(a)\n",
    "print(b)\n",
    "print(c)\n",
    "# =========================================================================================================\n",
    "# **kwargs accepts  keyword or named arguments.\n",
    "# NOTE double star** is the packing operator in kwargs. \n",
    "# Double asterisks / stars can only be used on DICTIONARY OBJECT\n",
    "\n",
    "# When user does not know how many keyword arguments will be passed, they use \"unpacking operator\" (** )in \n",
    "# front of parameter name in function definition e.g.\n",
    "# concatenate_keys.py\n",
    "def concatenate(**kwargs):\n",
    "    result = \"\"\n",
    "    # Iterating over the keys of the Python kwargs dictionary\n",
    "    for arg in kwargs:\n",
    "        result += arg\n",
    "    return result\n",
    "\n",
    "print(concatenate(a=\"Real\", b=\"Python\", c=\"Is\", d=\"Great\", e=\"!\"))\n",
    "#Now, if you try to execute above example, you’ll notice the following output:\n",
    "# abcde'\n",
    "# ============================================================================================================\n",
    "# concatenate_values.py\n",
    "def concatenate(**kwargs):\n",
    "    result = \"\"\n",
    "    # Iterating over the keys of the Python kwargs dictionary\n",
    "    for arg in kwargs.values(): #<=== IMPORTANT keyword values\n",
    "        result += arg\n",
    "    return result\n",
    "\n",
    "print(concatenate(a=\"Real\", b=\"Python\", c=\"Is\", d=\"Great\", e=\"!\"))\n",
    "#Now, if you try to execute above example, you’ll notice the following output:\n",
    "# RealPythonIsGreat!\n"
   ]
  },
  {
   "cell_type": "code",
   "execution_count": 8,
   "id": "9946fb0e",
   "metadata": {},
   "outputs": [
    {
     "name": "stdout",
     "output_type": "stream",
     "text": [
      "[0, 1, 1, 2, 3, 5, 8, 13, 21, 34]\n"
     ]
    }
   ],
   "source": [
    "\"\"\"Q6. Write a python program to print the first 10 Fibonacci numbers using a while loop.\"\"\"\n",
    "lst =[]\n",
    "first = 0\n",
    "second = 1\n",
    "lst.append(first)\n",
    "lst.append(second)\n",
    "while lst.__len__()<10:\n",
    "    third= first +second\n",
    "    lst.append(third)\n",
    "    first = second\n",
    "    second=third\n",
    "print(lst)"
   ]
  },
  {
   "cell_type": "code",
   "execution_count": 18,
   "id": "e3932588",
   "metadata": {},
   "outputs": [
    {
     "name": "stdout",
     "output_type": "stream",
     "text": [
      "['p', 'w', 's', 'k', 'i', 'l', 'l', 's']\n",
      "['p', 'w', 's', 'k', 'i', 'l', 'l', 's']\n"
     ]
    }
   ],
   "source": [
    "\"\"\"Q7. Write a List Comprehension to iterate through the given string: ‘pwskills’.\n",
    "Expected output: ['p', 'w', 's', 'k', 'i', 'l', 'l', 's']\"\"\"\n",
    "# SOLUTION 1\n",
    "list2= [x for x in 'pwskills']\n",
    "print (list2)\n",
    "# Solution 2: using unpacking operator *\n",
    "list1=[*'pwskills']\n",
    "print(list1)"
   ]
  },
  {
   "cell_type": "code",
   "execution_count": 16,
   "id": "c4315620",
   "metadata": {},
   "outputs": [
    {
     "name": "stdout",
     "output_type": "stream",
     "text": [
      "enter a string? abgfa\n",
      "abgfa  is not Palindrome\n",
      "abgfa  is not Palindrome\n",
      "abgfa  is not Palindrome\n",
      "abgfa  is not Palindrome\n"
     ]
    }
   ],
   "source": [
    "\"\"\"Q8. Write a python program to check whether a given number is Palindrome or not using a while loop.\n",
    "\"\"\"\n",
    "def isPalindrome(word):\n",
    "    #Solution1: using while\n",
    "    i=0\n",
    "    notPalin=False\n",
    "    while i<= len(word)/2:\n",
    "        if word[i]!= word[-i-1]:\n",
    "            print(word,\" is NOT Palindrome\")\n",
    "            notPalin=True\n",
    "        i+=1\n",
    "    if(not notPalin):\n",
    "        print(word,\" IS PALINDROME\")\n",
    "    else:\n",
    "        print(word,\" is NOT Palindrome\")\n",
    "    #Solution2\n",
    "    if word == ''.join(reversed(word)):\n",
    "        print(word,\" IS PALINDROME\")\n",
    "    else:\n",
    "        print(word,\" is not Palindrome\")\n",
    "    #Solution3\n",
    "    if (word==word[::-1]):\n",
    "        print(word,\" IS PALINDROME\")\n",
    "    else:\n",
    "        print(word,\" is not Palindrome\")\n",
    "\n",
    "word= input(\"enter a string? \")\n",
    "run=isPalindrome(word)\n",
    "\n",
    "\n",
    "  \n",
    "\n",
    "\n"
   ]
  },
  {
   "cell_type": "code",
   "execution_count": 9,
   "id": "48081abf",
   "metadata": {},
   "outputs": [
    {
     "name": "stdout",
     "output_type": "stream",
     "text": [
      "[1, 2, 3, 4, 5, 6, 7, 8, 9, 10, 11, 12, 13, 14, 15, 16, 17, 18, 19, 20, 21, 22, 23, 24, 25, 26, 27, 28, 29, 30, 31, 32, 33, 34, 35, 36, 37, 38, 39, 40, 41, 42, 43, 44, 45, 46, 47, 48, 49, 50, 51, 52, 53, 54, 55, 56, 57, 58, 59, 60, 61, 62, 63, 64, 65, 66, 67, 68, 69, 70, 71, 72, 73, 74, 75, 76, 77, 78, 79, 80, 81, 82, 83, 84, 85, 86, 87, 88, 89, 90, 91, 92, 93, 94, 95, 96, 97, 98, 99, 100]\n",
      "ODD NUMBERS FROM 1 to 100 are= [1, 3, 5, 7, 9, 11, 13, 15, 17, 19, 21, 23, 25, 27, 29, 31, 33, 35, 37, 39, 41, 43, 45, 47, 49, 51, 53, 55, 57, 59, 61, 63, 65, 67, 69, 71, 73, 75, 77, 79, 81, 83, 85, 87, 89, 91, 93, 95, 97, 99]\n"
     ]
    }
   ],
   "source": [
    "# Q9. Write a code to print odd numbers from 1 to 100 using list comprehension.\n",
    "# Note: Use a list comprehension to create a list from 1 to 100 and use another List comprehension to filter\n",
    "# out odd numbers.\n",
    "wholeList=[ x for x in range(1,101)]\n",
    "print (wholeList)\n",
    "list= [x for x in wholeList if x%2!=0 ]\n",
    "print (\"ODD NUMBERS FROM 1 to 100 are=\",list)"
   ]
  }
 ],
 "metadata": {
  "kernelspec": {
   "display_name": "Python 3 (ipykernel)",
   "language": "python",
   "name": "python3"
  },
  "language_info": {
   "codemirror_mode": {
    "name": "ipython",
    "version": 3
   },
   "file_extension": ".py",
   "mimetype": "text/x-python",
   "name": "python",
   "nbconvert_exporter": "python",
   "pygments_lexer": "ipython3",
   "version": "3.10.11"
  }
 },
 "nbformat": 4,
 "nbformat_minor": 5
}
